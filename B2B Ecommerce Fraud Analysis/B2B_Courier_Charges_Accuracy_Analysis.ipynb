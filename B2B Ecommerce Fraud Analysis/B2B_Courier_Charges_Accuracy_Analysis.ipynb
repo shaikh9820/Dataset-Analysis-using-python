{
  "nbformat": 4,
  "nbformat_minor": 0,
  "metadata": {
    "colab": {
      "provenance": []
    },
    "kernelspec": {
      "name": "python3",
      "display_name": "Python 3"
    },
    "language_info": {
      "name": "python"
    }
  },
  "cells": [
    {
      "cell_type": "markdown",
      "source": [
        "# B2B Ecommerce Fraud dataset\n",
        "\n",
        "## B2B courier charges accuracy analysis focuses on assessing the accuracy of fees charged by courier companies for the delivery of goods in B2B transactions. The aim is to ensure that companies are billed appropriately for the services provided by courier companies."
      ],
      "metadata": {
        "id": "3YDECyskX68q"
      }
    },
    {
      "cell_type": "markdown",
      "source": [
        "Let's start this task by importing the necessary Python libraries and the dataset."
      ],
      "metadata": {
        "id": "nLwstD0JAenW"
      }
    },
    {
      "cell_type": "code",
      "execution_count": null,
      "metadata": {
        "colab": {
          "base_uri": "https://localhost:8080/"
        },
        "id": "hv06A8WbXx-9",
        "outputId": "21727253-5730-4844-c21b-db39da3c6872"
      },
      "outputs": [
        {
          "output_type": "stream",
          "name": "stdout",
          "text": [
            "Order Report\n",
            "   ExternOrderNo            SKU  Order Qty  Unnamed: 3  Unnamed: 4\n",
            "0     2001827036  8904223818706        1.0         NaN         NaN\n",
            "1     2001827036  8904223819093        1.0         NaN         NaN\n",
            "2     2001827036  8904223819109        1.0         NaN         NaN\n",
            "3     2001827036  8904223818430        1.0         NaN         NaN\n",
            "4     2001827036  8904223819277        1.0         NaN         NaN\n",
            "\n",
            "SKU Master:\n",
            "             SKU  Weight (g)  Unnamed: 2  Unnamed: 3  Unnamed: 4\n",
            "0  8904223815682         210         NaN         NaN         NaN\n",
            "1  8904223815859         165         NaN         NaN         NaN\n",
            "2  8904223815866         113         NaN         NaN         NaN\n",
            "3  8904223815873          65         NaN         NaN         NaN\n",
            "4  8904223816214         120         NaN         NaN         NaN\n",
            "\n",
            "Pincode Mapping:\n",
            "   Warehouse Pincode  Customer Pincode Zone  Unnamed: 3  Unnamed: 4\n",
            "0             121003            507101    d         NaN         NaN\n",
            "1             121003            486886    d         NaN         NaN\n",
            "2             121003            532484    d         NaN         NaN\n",
            "3             121003            143001    b         NaN         NaN\n",
            "4             121003            515591    d         NaN         NaN\n",
            "\n",
            "Courier Invoice:\n",
            "        AWB Code    Order ID  Charged Weight  Warehouse Pincode  \\\n",
            "0  1091117222124  2001806232            1.30             121003   \n",
            "1  1091117222194  2001806273            1.00             121003   \n",
            "2  1091117222931  2001806408            2.50             121003   \n",
            "3  1091117223244  2001806458            1.00             121003   \n",
            "4  1091117229345  2001807012            0.15             121003   \n",
            "\n",
            "   Customer Pincode Zone Type of Shipment  Billing Amount (Rs.)  \n",
            "0            507101    d  Forward charges                 135.0  \n",
            "1            486886    d  Forward charges                  90.2  \n",
            "2            532484    d  Forward charges                 224.6  \n",
            "3            143001    b  Forward charges                  61.3  \n",
            "4            515591    d  Forward charges                  45.4  \n",
            "\n",
            "Courier Company rates:\n",
            "   fwd_a_fixed  fwd_a_additional  fwd_b_fixed  fwd_b_additional  fwd_c_fixed  \\\n",
            "0         29.5              23.6           33              28.3         40.1   \n",
            "\n",
            "   fwd_c_additional  fwd_d_fixed  fwd_d_additional  fwd_e_fixed  \\\n",
            "0              38.9         45.4              44.8         56.6   \n",
            "\n",
            "   fwd_e_additional  rto_a_fixed  rto_a_additional  rto_b_fixed  \\\n",
            "0              55.5         13.6              23.6         20.5   \n",
            "\n",
            "   rto_b_additional  rto_c_fixed  rto_c_additional  rto_d_fixed  \\\n",
            "0              28.3         31.9              38.9         41.3   \n",
            "\n",
            "   rto_d_additional  rto_e_fixed  rto_e_additional  \n",
            "0              44.8         50.7              55.5  \n"
          ]
        }
      ],
      "source": [
        "import pandas as pd\n",
        "import numpy as np\n",
        "\n",
        "order_report = pd.read_csv(\"/content/Order Report.csv\")\n",
        "sku_master = pd.read_csv(\"/content/SKU Master.csv\")\n",
        "pincode_mapping = pd.read_csv(\"/content/pincodes.csv\")\n",
        "courier_invoice =  pd.read_csv(\"/content/Invoice.csv\")\n",
        "courier_company_rates = pd.read_csv(\"/content/Courier Company - Rates.csv\")\n",
        "\n",
        "\n",
        "print(\"Order Report\")\n",
        "print(order_report.head())\n",
        "print(\"\\nSKU Master:\")\n",
        "print(sku_master.head())\n",
        "print(\"\\nPincode Mapping:\")\n",
        "print(pincode_mapping.head())\n",
        "print(\"\\nCourier Invoice:\")\n",
        "print(courier_invoice.head())\n",
        "print(\"\\nCourier Company rates:\")\n",
        "print(courier_company_rates.head())\n",
        "\n",
        "\n"
      ]
    },
    {
      "cell_type": "markdown",
      "source": [
        "Now let's have a look if any of the data contains missing values:\n"
      ],
      "metadata": {
        "id": "kvzwWc0Nyf6K"
      }
    },
    {
      "cell_type": "code",
      "source": [
        "# Check for missing values\n",
        "print(\"\\nMissing values in Website Order Report:\")\n",
        "print(order_report.isnull().sum())\n",
        "print(\"\\nMissing values in SKU Master:\")\n",
        "print(sku_master.isnull().sum())\n",
        "print(\"\\nMissing values in Pincode Mapping:\")\n",
        "print(pincode_mapping.isnull().sum())\n",
        "print(\"\\nMissing values in Courier Invoice:\")\n",
        "print(courier_invoice.isnull().sum())\n",
        "print(\"\\nMissing values in courier company rates:\")\n",
        "print(courier_company_rates.isnull().sum())"
      ],
      "metadata": {
        "colab": {
          "base_uri": "https://localhost:8080/"
        },
        "id": "h6nE5tAnx3h3",
        "outputId": "54807dcf-59b5-4561-cb6c-1b4506e7714f"
      },
      "execution_count": null,
      "outputs": [
        {
          "output_type": "stream",
          "name": "stdout",
          "text": [
            "\n",
            "Missing values in Website Order Report:\n",
            "ExternOrderNo      0\n",
            "SKU                0\n",
            "Order Qty          0\n",
            "Unnamed: 3       400\n",
            "Unnamed: 4       400\n",
            "dtype: int64\n",
            "\n",
            "Missing values in SKU Master:\n",
            "SKU            0\n",
            "Weight (g)     0\n",
            "Unnamed: 2    66\n",
            "Unnamed: 3    66\n",
            "Unnamed: 4    66\n",
            "dtype: int64\n",
            "\n",
            "Missing values in Pincode Mapping:\n",
            "Warehouse Pincode      0\n",
            "Customer Pincode       0\n",
            "Zone                   0\n",
            "Unnamed: 3           124\n",
            "Unnamed: 4           124\n",
            "dtype: int64\n",
            "\n",
            "Missing values in Courier Invoice:\n",
            "AWB Code                0\n",
            "Order ID                0\n",
            "Charged Weight          0\n",
            "Warehouse Pincode       0\n",
            "Customer Pincode        0\n",
            "Zone                    0\n",
            "Type of Shipment        0\n",
            "Billing Amount (Rs.)    0\n",
            "dtype: int64\n",
            "\n",
            "Missing values in courier company rates:\n",
            "fwd_a_fixed         0\n",
            "fwd_a_additional    0\n",
            "fwd_b_fixed         0\n",
            "fwd_b_additional    0\n",
            "fwd_c_fixed         0\n",
            "fwd_c_additional    0\n",
            "fwd_d_fixed         0\n",
            "fwd_d_additional    0\n",
            "fwd_e_fixed         0\n",
            "fwd_e_additional    0\n",
            "rto_a_fixed         0\n",
            "rto_a_additional    0\n",
            "rto_b_fixed         0\n",
            "rto_b_additional    0\n",
            "rto_c_fixed         0\n",
            "rto_c_additional    0\n",
            "rto_d_fixed         0\n",
            "rto_d_additional    0\n",
            "rto_e_fixed         0\n",
            "rto_e_additional    0\n",
            "dtype: int64\n"
          ]
        }
      ]
    },
    {
      "cell_type": "markdown",
      "source": [
        "Now let's clean the data"
      ],
      "metadata": {
        "id": "pq91qzJj2g8r"
      }
    },
    {
      "cell_type": "code",
      "source": [
        "#  Remove unnamed columns from the Website Order Report DataFrame\n",
        "order_report = order_report.drop(columns=[\"Unnamed: 3\", \"Unnamed: 4\"])\n",
        "\n",
        "# Remove unnamed columns from the SKU Master DataFrame\n",
        "sku_master = sku_master.drop(columns=[\"Unnamed: 2\",\"Unnamed: 3\", \"Unnamed: 4\"])\n",
        "\n",
        "# Remove unnamed columns from the pincode Mapping Dataframe\n",
        "pincode_mapping = pincode_mapping.drop(columns=[\"Unnamed: 3\", \"Unnamed: 4\"])"
      ],
      "metadata": {
        "id": "ounAgXb31FZ7"
      },
      "execution_count": null,
      "outputs": []
    },
    {
      "cell_type": "markdown",
      "source": [
        "Now let's merge the order report and SKU master  datasets according to the common SKU column:"
      ],
      "metadata": {
        "id": "67rR-Enk4lJB"
      }
    },
    {
      "cell_type": "code",
      "source": [
        "# Merge the Order Report and SKU Master based on SKU\n",
        "merged_data = pd.merge(order_report, sku_master, on='SKU')\n",
        "print(merged_data.head())"
      ],
      "metadata": {
        "colab": {
          "base_uri": "https://localhost:8080/"
        },
        "id": "P2OJyMEt4jcz",
        "outputId": "bd178877-593d-48b1-9836-12df62906ac7"
      },
      "execution_count": null,
      "outputs": [
        {
          "output_type": "stream",
          "name": "stdout",
          "text": [
            "   ExternOrderNo            SKU  Order Qty  Weight (g)\n",
            "0     2001827036  8904223818706        1.0         127\n",
            "1     2001827036  8904223819093        1.0         150\n",
            "2     2001827036  8904223819109        1.0         100\n",
            "3     2001827036  8904223818430        1.0         165\n",
            "4     2001827036  8904223819277        1.0         350\n"
          ]
        }
      ]
    },
    {
      "cell_type": "code",
      "source": [
        "# The \"ExternOrderNo\" is Nothing but \"Order Id\" in other dataset. Let's rename this column:\n",
        "# Rename the \"ExternOrderNo\" column to \"Order Id\"\n",
        "merged_data = merged_data.rename(columns={'ExternOrderNo': 'Order ID'})"
      ],
      "metadata": {
        "id": "tS5NSaDs5qnr"
      },
      "execution_count": null,
      "outputs": []
    },
    {
      "cell_type": "markdown",
      "source": [
        "Now let's merge the courier invoice and pincode mapping dataset:\n"
      ],
      "metadata": {
        "id": "_u6P6QMaQO47"
      }
    },
    {
      "cell_type": "code",
      "source": [
        "abc_courier = pincode_mapping.drop_duplicates(subset=['Customer Pincode'])\n",
        "courier_abc = courier_invoice[['Order ID', 'Customer Pincode', 'Type of Shipment']]\n",
        "pincodes = courier_abc.merge(abc_courier, on='Customer Pincode')\n",
        "print(pincodes.head())\n"
      ],
      "metadata": {
        "colab": {
          "base_uri": "https://localhost:8080/"
        },
        "id": "ivvJpfwjPuUX",
        "outputId": "f7cb71e4-41fb-4b5c-e95e-c812f507f3c1"
      },
      "execution_count": null,
      "outputs": [
        {
          "output_type": "stream",
          "name": "stdout",
          "text": [
            "     Order ID  Customer Pincode Type of Shipment  Warehouse Pincode Zone\n",
            "0  2001806232            507101  Forward charges             121003    d\n",
            "1  2001806273            486886  Forward charges             121003    d\n",
            "2  2001806408            532484  Forward charges             121003    d\n",
            "3  2001806458            143001  Forward charges             121003    b\n",
            "4  2001807012            515591  Forward charges             121003    d\n"
          ]
        }
      ]
    },
    {
      "cell_type": "markdown",
      "source": [
        "Now let's merge the pincodes with the main dataframe:"
      ],
      "metadata": {
        "id": "6jAljOYSUKTl"
      }
    },
    {
      "cell_type": "code",
      "source": [
        "merged2 = merged_data.merge(pincodes, on='Order ID')"
      ],
      "metadata": {
        "id": "uB_-PKwKU6JG"
      },
      "execution_count": null,
      "outputs": []
    },
    {
      "cell_type": "code",
      "source": [
        "merged2['Weights (Kgs)'] = merged2['Weight (g)'] / 1000"
      ],
      "metadata": {
        "id": "u7IVpQxyabks"
      },
      "execution_count": null,
      "outputs": []
    },
    {
      "cell_type": "code",
      "source": [
        "merged2 = merged2.drop(columns=['Weight (Kgs)'])"
      ],
      "metadata": {
        "id": "akkxRMvpF3l-"
      },
      "execution_count": null,
      "outputs": []
    },
    {
      "cell_type": "code",
      "source": [
        "courier_invoice.tail(20)"
      ],
      "metadata": {
        "colab": {
          "base_uri": "https://localhost:8080/",
          "height": 1000
        },
        "id": "fdwGly2iFpmc",
        "outputId": "5ad7cc19-3db3-4e64-ea08-9cbc1ea18437"
      },
      "execution_count": null,
      "outputs": [
        {
          "output_type": "execute_result",
          "data": {
            "text/plain": [
              "          AWB Code    Order ID  Charged Weight  Warehouse Pincode  \\\n",
              "104  1091117437293  2001808739            1.63             121003   \n",
              "105  1091117437864  2001808832            2.47             121003   \n",
              "106  1091117437890  2001808837            0.67             121003   \n",
              "107  1091117438074  2001808883            0.72             121003   \n",
              "108  1091117611501  2001808992            0.72             121003   \n",
              "109  1091117613962  2001809270            0.68             121003   \n",
              "110  1091117803511  2001809934            0.82             121003   \n",
              "111  1091117804314  2001810125            0.66             121003   \n",
              "112  1091117805390  2001810281            0.68             121003   \n",
              "113  1091117806263  2001810549            1.86             121003   \n",
              "114  1091117807140  2001810697            2.27             121003   \n",
              "115  1091117904860  2001811039            0.68             121003   \n",
              "116  1091117905022  2001811058            0.72             121003   \n",
              "117  1091117958163  2001811306            1.10             121003   \n",
              "118  1091118442390  2001812195            0.67             121003   \n",
              "119  1091118551656  2001812941            0.73             121003   \n",
              "120  1091117614452  2001809383            0.50             121003   \n",
              "121  1091120922803  2001820978            0.50             121003   \n",
              "122  1091121844806  2001811475            0.50             121003   \n",
              "123  1091121846136  2001811305            0.50             121003   \n",
              "\n",
              "     Customer Pincode Zone         Type of Shipment  Billing Amount (Rs.)  \\\n",
              "104            342012    d          Forward charges                 179.8   \n",
              "105            334001    d          Forward charges                 224.6   \n",
              "106            302031    d          Forward charges                  90.2   \n",
              "107            302012    d          Forward charges                  90.2   \n",
              "108            342014    d          Forward charges                  90.2   \n",
              "109            324005    d          Forward charges                  90.2   \n",
              "110            302001    d          Forward charges                  90.2   \n",
              "111            302004    d          Forward charges                  90.2   \n",
              "112            302018    d          Forward charges                  90.2   \n",
              "113            302017    d          Forward charges                 179.8   \n",
              "114            324008    d          Forward charges                 224.6   \n",
              "115            302020    d          Forward charges                  90.2   \n",
              "116            302018    d          Forward charges                  90.2   \n",
              "117            302017    d          Forward charges                 135.0   \n",
              "118            302012    d          Forward charges                  90.2   \n",
              "119            325207    d          Forward charges                  90.2   \n",
              "120            303702    d  Forward and RTO charges                  86.7   \n",
              "121            313301    d          Forward charges                  45.4   \n",
              "122            173212    b          Forward charges                  33.0   \n",
              "123            302020    d          Forward charges                  45.4   \n",
              "\n",
              "     Weight Slab Charged by Courier Company  \n",
              "104                                     2.0  \n",
              "105                                     2.5  \n",
              "106                                     1.0  \n",
              "107                                     1.0  \n",
              "108                                     1.0  \n",
              "109                                     1.0  \n",
              "110                                     1.0  \n",
              "111                                     1.0  \n",
              "112                                     1.0  \n",
              "113                                     2.0  \n",
              "114                                     2.5  \n",
              "115                                     1.0  \n",
              "116                                     1.0  \n",
              "117                                     1.5  \n",
              "118                                     1.0  \n",
              "119                                     1.0  \n",
              "120                                     0.5  \n",
              "121                                     0.5  \n",
              "122                                     0.5  \n",
              "123                                     0.5  "
            ],
            "text/html": [
              "\n",
              "  <div id=\"df-64960ae4-3b96-40c0-8b41-732eb143a152\" class=\"colab-df-container\">\n",
              "    <div>\n",
              "<style scoped>\n",
              "    .dataframe tbody tr th:only-of-type {\n",
              "        vertical-align: middle;\n",
              "    }\n",
              "\n",
              "    .dataframe tbody tr th {\n",
              "        vertical-align: top;\n",
              "    }\n",
              "\n",
              "    .dataframe thead th {\n",
              "        text-align: right;\n",
              "    }\n",
              "</style>\n",
              "<table border=\"1\" class=\"dataframe\">\n",
              "  <thead>\n",
              "    <tr style=\"text-align: right;\">\n",
              "      <th></th>\n",
              "      <th>AWB Code</th>\n",
              "      <th>Order ID</th>\n",
              "      <th>Charged Weight</th>\n",
              "      <th>Warehouse Pincode</th>\n",
              "      <th>Customer Pincode</th>\n",
              "      <th>Zone</th>\n",
              "      <th>Type of Shipment</th>\n",
              "      <th>Billing Amount (Rs.)</th>\n",
              "      <th>Weight Slab Charged by Courier Company</th>\n",
              "    </tr>\n",
              "  </thead>\n",
              "  <tbody>\n",
              "    <tr>\n",
              "      <th>104</th>\n",
              "      <td>1091117437293</td>\n",
              "      <td>2001808739</td>\n",
              "      <td>1.63</td>\n",
              "      <td>121003</td>\n",
              "      <td>342012</td>\n",
              "      <td>d</td>\n",
              "      <td>Forward charges</td>\n",
              "      <td>179.8</td>\n",
              "      <td>2.0</td>\n",
              "    </tr>\n",
              "    <tr>\n",
              "      <th>105</th>\n",
              "      <td>1091117437864</td>\n",
              "      <td>2001808832</td>\n",
              "      <td>2.47</td>\n",
              "      <td>121003</td>\n",
              "      <td>334001</td>\n",
              "      <td>d</td>\n",
              "      <td>Forward charges</td>\n",
              "      <td>224.6</td>\n",
              "      <td>2.5</td>\n",
              "    </tr>\n",
              "    <tr>\n",
              "      <th>106</th>\n",
              "      <td>1091117437890</td>\n",
              "      <td>2001808837</td>\n",
              "      <td>0.67</td>\n",
              "      <td>121003</td>\n",
              "      <td>302031</td>\n",
              "      <td>d</td>\n",
              "      <td>Forward charges</td>\n",
              "      <td>90.2</td>\n",
              "      <td>1.0</td>\n",
              "    </tr>\n",
              "    <tr>\n",
              "      <th>107</th>\n",
              "      <td>1091117438074</td>\n",
              "      <td>2001808883</td>\n",
              "      <td>0.72</td>\n",
              "      <td>121003</td>\n",
              "      <td>302012</td>\n",
              "      <td>d</td>\n",
              "      <td>Forward charges</td>\n",
              "      <td>90.2</td>\n",
              "      <td>1.0</td>\n",
              "    </tr>\n",
              "    <tr>\n",
              "      <th>108</th>\n",
              "      <td>1091117611501</td>\n",
              "      <td>2001808992</td>\n",
              "      <td>0.72</td>\n",
              "      <td>121003</td>\n",
              "      <td>342014</td>\n",
              "      <td>d</td>\n",
              "      <td>Forward charges</td>\n",
              "      <td>90.2</td>\n",
              "      <td>1.0</td>\n",
              "    </tr>\n",
              "    <tr>\n",
              "      <th>109</th>\n",
              "      <td>1091117613962</td>\n",
              "      <td>2001809270</td>\n",
              "      <td>0.68</td>\n",
              "      <td>121003</td>\n",
              "      <td>324005</td>\n",
              "      <td>d</td>\n",
              "      <td>Forward charges</td>\n",
              "      <td>90.2</td>\n",
              "      <td>1.0</td>\n",
              "    </tr>\n",
              "    <tr>\n",
              "      <th>110</th>\n",
              "      <td>1091117803511</td>\n",
              "      <td>2001809934</td>\n",
              "      <td>0.82</td>\n",
              "      <td>121003</td>\n",
              "      <td>302001</td>\n",
              "      <td>d</td>\n",
              "      <td>Forward charges</td>\n",
              "      <td>90.2</td>\n",
              "      <td>1.0</td>\n",
              "    </tr>\n",
              "    <tr>\n",
              "      <th>111</th>\n",
              "      <td>1091117804314</td>\n",
              "      <td>2001810125</td>\n",
              "      <td>0.66</td>\n",
              "      <td>121003</td>\n",
              "      <td>302004</td>\n",
              "      <td>d</td>\n",
              "      <td>Forward charges</td>\n",
              "      <td>90.2</td>\n",
              "      <td>1.0</td>\n",
              "    </tr>\n",
              "    <tr>\n",
              "      <th>112</th>\n",
              "      <td>1091117805390</td>\n",
              "      <td>2001810281</td>\n",
              "      <td>0.68</td>\n",
              "      <td>121003</td>\n",
              "      <td>302018</td>\n",
              "      <td>d</td>\n",
              "      <td>Forward charges</td>\n",
              "      <td>90.2</td>\n",
              "      <td>1.0</td>\n",
              "    </tr>\n",
              "    <tr>\n",
              "      <th>113</th>\n",
              "      <td>1091117806263</td>\n",
              "      <td>2001810549</td>\n",
              "      <td>1.86</td>\n",
              "      <td>121003</td>\n",
              "      <td>302017</td>\n",
              "      <td>d</td>\n",
              "      <td>Forward charges</td>\n",
              "      <td>179.8</td>\n",
              "      <td>2.0</td>\n",
              "    </tr>\n",
              "    <tr>\n",
              "      <th>114</th>\n",
              "      <td>1091117807140</td>\n",
              "      <td>2001810697</td>\n",
              "      <td>2.27</td>\n",
              "      <td>121003</td>\n",
              "      <td>324008</td>\n",
              "      <td>d</td>\n",
              "      <td>Forward charges</td>\n",
              "      <td>224.6</td>\n",
              "      <td>2.5</td>\n",
              "    </tr>\n",
              "    <tr>\n",
              "      <th>115</th>\n",
              "      <td>1091117904860</td>\n",
              "      <td>2001811039</td>\n",
              "      <td>0.68</td>\n",
              "      <td>121003</td>\n",
              "      <td>302020</td>\n",
              "      <td>d</td>\n",
              "      <td>Forward charges</td>\n",
              "      <td>90.2</td>\n",
              "      <td>1.0</td>\n",
              "    </tr>\n",
              "    <tr>\n",
              "      <th>116</th>\n",
              "      <td>1091117905022</td>\n",
              "      <td>2001811058</td>\n",
              "      <td>0.72</td>\n",
              "      <td>121003</td>\n",
              "      <td>302018</td>\n",
              "      <td>d</td>\n",
              "      <td>Forward charges</td>\n",
              "      <td>90.2</td>\n",
              "      <td>1.0</td>\n",
              "    </tr>\n",
              "    <tr>\n",
              "      <th>117</th>\n",
              "      <td>1091117958163</td>\n",
              "      <td>2001811306</td>\n",
              "      <td>1.10</td>\n",
              "      <td>121003</td>\n",
              "      <td>302017</td>\n",
              "      <td>d</td>\n",
              "      <td>Forward charges</td>\n",
              "      <td>135.0</td>\n",
              "      <td>1.5</td>\n",
              "    </tr>\n",
              "    <tr>\n",
              "      <th>118</th>\n",
              "      <td>1091118442390</td>\n",
              "      <td>2001812195</td>\n",
              "      <td>0.67</td>\n",
              "      <td>121003</td>\n",
              "      <td>302012</td>\n",
              "      <td>d</td>\n",
              "      <td>Forward charges</td>\n",
              "      <td>90.2</td>\n",
              "      <td>1.0</td>\n",
              "    </tr>\n",
              "    <tr>\n",
              "      <th>119</th>\n",
              "      <td>1091118551656</td>\n",
              "      <td>2001812941</td>\n",
              "      <td>0.73</td>\n",
              "      <td>121003</td>\n",
              "      <td>325207</td>\n",
              "      <td>d</td>\n",
              "      <td>Forward charges</td>\n",
              "      <td>90.2</td>\n",
              "      <td>1.0</td>\n",
              "    </tr>\n",
              "    <tr>\n",
              "      <th>120</th>\n",
              "      <td>1091117614452</td>\n",
              "      <td>2001809383</td>\n",
              "      <td>0.50</td>\n",
              "      <td>121003</td>\n",
              "      <td>303702</td>\n",
              "      <td>d</td>\n",
              "      <td>Forward and RTO charges</td>\n",
              "      <td>86.7</td>\n",
              "      <td>0.5</td>\n",
              "    </tr>\n",
              "    <tr>\n",
              "      <th>121</th>\n",
              "      <td>1091120922803</td>\n",
              "      <td>2001820978</td>\n",
              "      <td>0.50</td>\n",
              "      <td>121003</td>\n",
              "      <td>313301</td>\n",
              "      <td>d</td>\n",
              "      <td>Forward charges</td>\n",
              "      <td>45.4</td>\n",
              "      <td>0.5</td>\n",
              "    </tr>\n",
              "    <tr>\n",
              "      <th>122</th>\n",
              "      <td>1091121844806</td>\n",
              "      <td>2001811475</td>\n",
              "      <td>0.50</td>\n",
              "      <td>121003</td>\n",
              "      <td>173212</td>\n",
              "      <td>b</td>\n",
              "      <td>Forward charges</td>\n",
              "      <td>33.0</td>\n",
              "      <td>0.5</td>\n",
              "    </tr>\n",
              "    <tr>\n",
              "      <th>123</th>\n",
              "      <td>1091121846136</td>\n",
              "      <td>2001811305</td>\n",
              "      <td>0.50</td>\n",
              "      <td>121003</td>\n",
              "      <td>302020</td>\n",
              "      <td>d</td>\n",
              "      <td>Forward charges</td>\n",
              "      <td>45.4</td>\n",
              "      <td>0.5</td>\n",
              "    </tr>\n",
              "  </tbody>\n",
              "</table>\n",
              "</div>\n",
              "    <div class=\"colab-df-buttons\">\n",
              "\n",
              "  <div class=\"colab-df-container\">\n",
              "    <button class=\"colab-df-convert\" onclick=\"convertToInteractive('df-64960ae4-3b96-40c0-8b41-732eb143a152')\"\n",
              "            title=\"Convert this dataframe to an interactive table.\"\n",
              "            style=\"display:none;\">\n",
              "\n",
              "  <svg xmlns=\"http://www.w3.org/2000/svg\" height=\"24px\" viewBox=\"0 -960 960 960\">\n",
              "    <path d=\"M120-120v-720h720v720H120Zm60-500h600v-160H180v160Zm220 220h160v-160H400v160Zm0 220h160v-160H400v160ZM180-400h160v-160H180v160Zm440 0h160v-160H620v160ZM180-180h160v-160H180v160Zm440 0h160v-160H620v160Z\"/>\n",
              "  </svg>\n",
              "    </button>\n",
              "\n",
              "  <style>\n",
              "    .colab-df-container {\n",
              "      display:flex;\n",
              "      gap: 12px;\n",
              "    }\n",
              "\n",
              "    .colab-df-convert {\n",
              "      background-color: #E8F0FE;\n",
              "      border: none;\n",
              "      border-radius: 50%;\n",
              "      cursor: pointer;\n",
              "      display: none;\n",
              "      fill: #1967D2;\n",
              "      height: 32px;\n",
              "      padding: 0 0 0 0;\n",
              "      width: 32px;\n",
              "    }\n",
              "\n",
              "    .colab-df-convert:hover {\n",
              "      background-color: #E2EBFA;\n",
              "      box-shadow: 0px 1px 2px rgba(60, 64, 67, 0.3), 0px 1px 3px 1px rgba(60, 64, 67, 0.15);\n",
              "      fill: #174EA6;\n",
              "    }\n",
              "\n",
              "    .colab-df-buttons div {\n",
              "      margin-bottom: 4px;\n",
              "    }\n",
              "\n",
              "    [theme=dark] .colab-df-convert {\n",
              "      background-color: #3B4455;\n",
              "      fill: #D2E3FC;\n",
              "    }\n",
              "\n",
              "    [theme=dark] .colab-df-convert:hover {\n",
              "      background-color: #434B5C;\n",
              "      box-shadow: 0px 1px 3px 1px rgba(0, 0, 0, 0.15);\n",
              "      filter: drop-shadow(0px 1px 2px rgba(0, 0, 0, 0.3));\n",
              "      fill: #FFFFFF;\n",
              "    }\n",
              "  </style>\n",
              "\n",
              "    <script>\n",
              "      const buttonEl =\n",
              "        document.querySelector('#df-64960ae4-3b96-40c0-8b41-732eb143a152 button.colab-df-convert');\n",
              "      buttonEl.style.display =\n",
              "        google.colab.kernel.accessAllowed ? 'block' : 'none';\n",
              "\n",
              "      async function convertToInteractive(key) {\n",
              "        const element = document.querySelector('#df-64960ae4-3b96-40c0-8b41-732eb143a152');\n",
              "        const dataTable =\n",
              "          await google.colab.kernel.invokeFunction('convertToInteractive',\n",
              "                                                    [key], {});\n",
              "        if (!dataTable) return;\n",
              "\n",
              "        const docLinkHtml = 'Like what you see? Visit the ' +\n",
              "          '<a target=\"_blank\" href=https://colab.research.google.com/notebooks/data_table.ipynb>data table notebook</a>'\n",
              "          + ' to learn more about interactive tables.';\n",
              "        element.innerHTML = '';\n",
              "        dataTable['output_type'] = 'display_data';\n",
              "        await google.colab.output.renderOutput(dataTable, element);\n",
              "        const docLink = document.createElement('div');\n",
              "        docLink.innerHTML = docLinkHtml;\n",
              "        element.appendChild(docLink);\n",
              "      }\n",
              "    </script>\n",
              "  </div>\n",
              "\n",
              "\n",
              "<div id=\"df-e8370d60-19a0-4597-8ed0-bb9758331aa1\">\n",
              "  <button class=\"colab-df-quickchart\" onclick=\"quickchart('df-e8370d60-19a0-4597-8ed0-bb9758331aa1')\"\n",
              "            title=\"Suggest charts\"\n",
              "            style=\"display:none;\">\n",
              "\n",
              "<svg xmlns=\"http://www.w3.org/2000/svg\" height=\"24px\"viewBox=\"0 0 24 24\"\n",
              "     width=\"24px\">\n",
              "    <g>\n",
              "        <path d=\"M19 3H5c-1.1 0-2 .9-2 2v14c0 1.1.9 2 2 2h14c1.1 0 2-.9 2-2V5c0-1.1-.9-2-2-2zM9 17H7v-7h2v7zm4 0h-2V7h2v10zm4 0h-2v-4h2v4z\"/>\n",
              "    </g>\n",
              "</svg>\n",
              "  </button>\n",
              "\n",
              "<style>\n",
              "  .colab-df-quickchart {\n",
              "      --bg-color: #E8F0FE;\n",
              "      --fill-color: #1967D2;\n",
              "      --hover-bg-color: #E2EBFA;\n",
              "      --hover-fill-color: #174EA6;\n",
              "      --disabled-fill-color: #AAA;\n",
              "      --disabled-bg-color: #DDD;\n",
              "  }\n",
              "\n",
              "  [theme=dark] .colab-df-quickchart {\n",
              "      --bg-color: #3B4455;\n",
              "      --fill-color: #D2E3FC;\n",
              "      --hover-bg-color: #434B5C;\n",
              "      --hover-fill-color: #FFFFFF;\n",
              "      --disabled-bg-color: #3B4455;\n",
              "      --disabled-fill-color: #666;\n",
              "  }\n",
              "\n",
              "  .colab-df-quickchart {\n",
              "    background-color: var(--bg-color);\n",
              "    border: none;\n",
              "    border-radius: 50%;\n",
              "    cursor: pointer;\n",
              "    display: none;\n",
              "    fill: var(--fill-color);\n",
              "    height: 32px;\n",
              "    padding: 0;\n",
              "    width: 32px;\n",
              "  }\n",
              "\n",
              "  .colab-df-quickchart:hover {\n",
              "    background-color: var(--hover-bg-color);\n",
              "    box-shadow: 0 1px 2px rgba(60, 64, 67, 0.3), 0 1px 3px 1px rgba(60, 64, 67, 0.15);\n",
              "    fill: var(--button-hover-fill-color);\n",
              "  }\n",
              "\n",
              "  .colab-df-quickchart-complete:disabled,\n",
              "  .colab-df-quickchart-complete:disabled:hover {\n",
              "    background-color: var(--disabled-bg-color);\n",
              "    fill: var(--disabled-fill-color);\n",
              "    box-shadow: none;\n",
              "  }\n",
              "\n",
              "  .colab-df-spinner {\n",
              "    border: 2px solid var(--fill-color);\n",
              "    border-color: transparent;\n",
              "    border-bottom-color: var(--fill-color);\n",
              "    animation:\n",
              "      spin 1s steps(1) infinite;\n",
              "  }\n",
              "\n",
              "  @keyframes spin {\n",
              "    0% {\n",
              "      border-color: transparent;\n",
              "      border-bottom-color: var(--fill-color);\n",
              "      border-left-color: var(--fill-color);\n",
              "    }\n",
              "    20% {\n",
              "      border-color: transparent;\n",
              "      border-left-color: var(--fill-color);\n",
              "      border-top-color: var(--fill-color);\n",
              "    }\n",
              "    30% {\n",
              "      border-color: transparent;\n",
              "      border-left-color: var(--fill-color);\n",
              "      border-top-color: var(--fill-color);\n",
              "      border-right-color: var(--fill-color);\n",
              "    }\n",
              "    40% {\n",
              "      border-color: transparent;\n",
              "      border-right-color: var(--fill-color);\n",
              "      border-top-color: var(--fill-color);\n",
              "    }\n",
              "    60% {\n",
              "      border-color: transparent;\n",
              "      border-right-color: var(--fill-color);\n",
              "    }\n",
              "    80% {\n",
              "      border-color: transparent;\n",
              "      border-right-color: var(--fill-color);\n",
              "      border-bottom-color: var(--fill-color);\n",
              "    }\n",
              "    90% {\n",
              "      border-color: transparent;\n",
              "      border-bottom-color: var(--fill-color);\n",
              "    }\n",
              "  }\n",
              "</style>\n",
              "\n",
              "  <script>\n",
              "    async function quickchart(key) {\n",
              "      const quickchartButtonEl =\n",
              "        document.querySelector('#' + key + ' button');\n",
              "      quickchartButtonEl.disabled = true;  // To prevent multiple clicks.\n",
              "      quickchartButtonEl.classList.add('colab-df-spinner');\n",
              "      try {\n",
              "        const charts = await google.colab.kernel.invokeFunction(\n",
              "            'suggestCharts', [key], {});\n",
              "      } catch (error) {\n",
              "        console.error('Error during call to suggestCharts:', error);\n",
              "      }\n",
              "      quickchartButtonEl.classList.remove('colab-df-spinner');\n",
              "      quickchartButtonEl.classList.add('colab-df-quickchart-complete');\n",
              "    }\n",
              "    (() => {\n",
              "      let quickchartButtonEl =\n",
              "        document.querySelector('#df-e8370d60-19a0-4597-8ed0-bb9758331aa1 button');\n",
              "      quickchartButtonEl.style.display =\n",
              "        google.colab.kernel.accessAllowed ? 'block' : 'none';\n",
              "    })();\n",
              "  </script>\n",
              "</div>\n",
              "\n",
              "    </div>\n",
              "  </div>\n"
            ],
            "application/vnd.google.colaboratory.intrinsic+json": {
              "type": "dataframe",
              "summary": "{\n  \"name\": \"courier_invoice\",\n  \"rows\": 20,\n  \"fields\": [\n    {\n      \"column\": \"AWB Code\",\n      \"properties\": {\n        \"dtype\": \"number\",\n        \"std\": 1415979,\n        \"min\": 1091117437293,\n        \"max\": 1091121846136,\n        \"num_unique_values\": 20,\n        \"samples\": [\n          1091117437293,\n          1091120922803,\n          1091118551656\n        ],\n        \"semantic_type\": \"\",\n        \"description\": \"\"\n      }\n    },\n    {\n      \"column\": \"Order ID\",\n      \"properties\": {\n        \"dtype\": \"number\",\n        \"std\": 2675,\n        \"min\": 2001808739,\n        \"max\": 2001820978,\n        \"num_unique_values\": 20,\n        \"samples\": [\n          2001808739,\n          2001820978,\n          2001812941\n        ],\n        \"semantic_type\": \"\",\n        \"description\": \"\"\n      }\n    },\n    {\n      \"column\": \"Charged Weight\",\n      \"properties\": {\n        \"dtype\": \"number\",\n        \"std\": 0.6008362593305399,\n        \"min\": 0.5,\n        \"max\": 2.47,\n        \"num_unique_values\": 12,\n        \"samples\": [\n          0.73,\n          1.1,\n          1.63\n        ],\n        \"semantic_type\": \"\",\n        \"description\": \"\"\n      }\n    },\n    {\n      \"column\": \"Warehouse Pincode\",\n      \"properties\": {\n        \"dtype\": \"number\",\n        \"std\": 0,\n        \"min\": 121003,\n        \"max\": 121003,\n        \"num_unique_values\": 1,\n        \"samples\": [\n          121003\n        ],\n        \"semantic_type\": \"\",\n        \"description\": \"\"\n      }\n    },\n    {\n      \"column\": \"Customer Pincode\",\n      \"properties\": {\n        \"dtype\": \"number\",\n        \"std\": 34218,\n        \"min\": 173212,\n        \"max\": 342014,\n        \"num_unique_values\": 16,\n        \"samples\": [\n          342012\n        ],\n        \"semantic_type\": \"\",\n        \"description\": \"\"\n      }\n    },\n    {\n      \"column\": \"Zone\",\n      \"properties\": {\n        \"dtype\": \"category\",\n        \"num_unique_values\": 2,\n        \"samples\": [\n          \"b\"\n        ],\n        \"semantic_type\": \"\",\n        \"description\": \"\"\n      }\n    },\n    {\n      \"column\": \"Type of Shipment\",\n      \"properties\": {\n        \"dtype\": \"category\",\n        \"num_unique_values\": 2,\n        \"samples\": [\n          \"Forward and RTO charges\"\n        ],\n        \"semantic_type\": \"\",\n        \"description\": \"\"\n      }\n    },\n    {\n      \"column\": \"Billing Amount (Rs.)\",\n      \"properties\": {\n        \"dtype\": \"number\",\n        \"std\": 54.106589490706114,\n        \"min\": 33.0,\n        \"max\": 224.6,\n        \"num_unique_values\": 7,\n        \"samples\": [\n          179.8\n        ],\n        \"semantic_type\": \"\",\n        \"description\": \"\"\n      }\n    },\n    {\n      \"column\": \"Weight Slab Charged by Courier Company\",\n      \"properties\": {\n        \"dtype\": \"number\",\n        \"std\": 0.6129093691051248,\n        \"min\": 0.5,\n        \"max\": 2.5,\n        \"num_unique_values\": 5,\n        \"samples\": [\n          2.5\n        ],\n        \"semantic_type\": \"\",\n        \"description\": \"\"\n      }\n    }\n  ]\n}"
            }
          },
          "metadata": {},
          "execution_count": 18
        }
      ]
    },
    {
      "cell_type": "markdown",
      "source": [
        "Now let's calculate the weight slabs:\n"
      ],
      "metadata": {
        "id": "ea1naZitfKlx"
      }
    },
    {
      "cell_type": "code",
      "source": [
        "def weight_slab(weight):\n",
        "    i = round(weight % 1, 1)\n",
        "    if i == 0.0:\n",
        "        return weight\n",
        "    elif i > 0.5:\n",
        "        return int(weight) + 1.0\n",
        "    else:\n",
        "        return int(weight) + 0.5\n",
        "\n",
        "merged2['Weight Slab (KG)'] = merged2['Weights (Kgs)'].apply(weight_slab)\n",
        "courier_invoice['Weight Slab Charged by Courier Company'] = (courier_invoice['Charged Weight']).apply(weight_slab)"
      ],
      "metadata": {
        "id": "aWNveGlYau2P"
      },
      "execution_count": null,
      "outputs": []
    },
    {
      "cell_type": "markdown",
      "source": [
        "Now let's rename the columns to prepare the desired dataframe."
      ],
      "metadata": {
        "id": "_OuYU0D0KW3j"
      }
    },
    {
      "cell_type": "code",
      "source": [
        "courier_invoice = courier_invoice.rename(columns={'Zone': 'Delivery Zone Charged by Courier Company'})\n",
        "merged2 = merged2.rename(columns={'Zone': 'Delivery Zone As Per ABC'})\n",
        "merged2 = merged2.rename(columns={'Weight Slab (KG)': 'Weight Slab As Per ABC'})"
      ],
      "metadata": {
        "id": "hNt1SkEzKU7i"
      },
      "execution_count": null,
      "outputs": []
    },
    {
      "cell_type": "markdown",
      "source": [
        "Now let's calculate the expected charges:"
      ],
      "metadata": {
        "id": "BfakjbcqLqEj"
      }
    },
    {
      "cell_type": "code",
      "source": [
        "total_expected_charge = []\n",
        "\n",
        "for _, row in merged2.iterrows():\n",
        "    fwd_category = 'fwd_' + row['Delivery Zone As Per ABC']\n",
        "    fwd_fixed = courier_company_rates.at[0, fwd_category + '_fixed']\n",
        "    fwd_additional = courier_company_rates.at[0, fwd_category + '_additional']\n",
        "    rto_category = 'rto_' + row['Delivery Zone As Per ABC']\n",
        "    rto_fixed = courier_company_rates.at[0, rto_category + '_fixed']\n",
        "    rto_additional = courier_company_rates.at[0, rto_category + '_additional']\n",
        "\n",
        "    weight_slab = row['Weight Slab As Per ABC']\n",
        "\n",
        "    if row['Type of Shipment'] == 'Forward charges':\n",
        "        additional_weight = max(0, (weight_slab - 0.5) / 0.5)\n",
        "        total_expected_charge.append(fwd_fixed + additional_weight * fwd_additional)\n",
        "    elif row['Type of Shipment'] == 'Forward and RTO charges':\n",
        "        additional_weight = max(0, (weight_slab - 0.5) / 0.5)\n",
        "        total_expected_charge.append(fwd_fixed + additional_weight * (fwd_additional + rto_additional))\n",
        "    else:\n",
        "        total_expected_charge.append(0)\n",
        "\n",
        "merged2['Expected Charge as per ABC'] = total_expected_charge\n",
        "print(merged2.head(20))\n",
        "\n"
      ],
      "metadata": {
        "colab": {
          "base_uri": "https://localhost:8080/"
        },
        "id": "yVygR1cKLfjs",
        "outputId": "af7ae891-98c8-4189-bf0d-57092ebe88b8"
      },
      "execution_count": null,
      "outputs": [
        {
          "output_type": "stream",
          "name": "stdout",
          "text": [
            "      Order ID            SKU  Order Qty  Weight (g)  Customer Pincode  \\\n",
            "0   2001827036  8904223818706        1.0         127            173213   \n",
            "1   2001827036  8904223819093        1.0         150            173213   \n",
            "2   2001827036  8904223819109        1.0         100            173213   \n",
            "3   2001827036  8904223818430        1.0         165            173213   \n",
            "4   2001827036  8904223819277        1.0         350            173213   \n",
            "5   2001827036  GIFTBOX202002        1.0         500            173213   \n",
            "6   2001827036  GIFTBOX202002        1.0         500            173213   \n",
            "7   2001827036  8904223818638        2.0         137            173213   \n",
            "8   2001827036     SACHETS001        1.0          10            173213   \n",
            "9   2001825261  8904223819024        4.0         112            517128   \n",
            "10  2001825261  8904223819291        4.0         112            517128   \n",
            "11  2001825261  8904223818638        3.0         137            517128   \n",
            "12  2001825261  8904223818669        1.0         240            517128   \n",
            "13  2001825261     SACHETS001        1.0          10            517128   \n",
            "14  2001823564  8904223819291        2.0         112            492001   \n",
            "15  2001823564  8904223819031        2.0         112            492001   \n",
            "16  2001823564  8904223819024        2.0         112            492001   \n",
            "17  2001822466  8904223819468        2.0         240            342301   \n",
            "18  2001822466  8904223819291        8.0         112            342301   \n",
            "19  2001821995  8904223819130        1.0         350            342008   \n",
            "\n",
            "           Type of Shipment  Warehouse Pincode Delivery Zone As Per ABC  \\\n",
            "0           Forward charges             121003                        e   \n",
            "1           Forward charges             121003                        e   \n",
            "2           Forward charges             121003                        e   \n",
            "3           Forward charges             121003                        e   \n",
            "4           Forward charges             121003                        e   \n",
            "5           Forward charges             121003                        e   \n",
            "6           Forward charges             121003                        e   \n",
            "7           Forward charges             121003                        e   \n",
            "8           Forward charges             121003                        e   \n",
            "9   Forward and RTO charges             121003                        d   \n",
            "10  Forward and RTO charges             121003                        d   \n",
            "11  Forward and RTO charges             121003                        d   \n",
            "12  Forward and RTO charges             121003                        d   \n",
            "13  Forward and RTO charges             121003                        d   \n",
            "14  Forward and RTO charges             121003                        d   \n",
            "15  Forward and RTO charges             121003                        d   \n",
            "16  Forward and RTO charges             121003                        d   \n",
            "17          Forward charges             121003                        b   \n",
            "18          Forward charges             121003                        b   \n",
            "19          Forward charges             121003                        b   \n",
            "\n",
            "    Weights (Kgs)  Weight Slab As Per ABC  Expected Charge as per ABC  \n",
            "0           0.127                    0.50                        56.6  \n",
            "1           0.150                    0.50                        56.6  \n",
            "2           0.100                    0.50                        56.6  \n",
            "3           0.165                    0.50                        56.6  \n",
            "4           0.350                    0.50                        56.6  \n",
            "5           0.500                    0.50                        56.6  \n",
            "6           0.500                    0.50                        56.6  \n",
            "7           0.137                    0.50                        56.6  \n",
            "8           0.010                    0.01                        56.6  \n",
            "9           0.112                    0.50                        45.4  \n",
            "10          0.112                    0.50                        45.4  \n",
            "11          0.137                    0.50                        45.4  \n",
            "12          0.240                    0.50                        45.4  \n",
            "13          0.010                    0.01                        45.4  \n",
            "14          0.112                    0.50                        45.4  \n",
            "15          0.112                    0.50                        45.4  \n",
            "16          0.112                    0.50                        45.4  \n",
            "17          0.240                    0.50                        33.0  \n",
            "18          0.112                    0.50                        33.0  \n",
            "19          0.350                    0.50                        33.0  \n"
          ]
        }
      ]
    },
    {
      "cell_type": "markdown",
      "source": [
        "Now let's merge it with the courier invoice to display the final dataframe:"
      ],
      "metadata": {
        "id": "dfuhyRr1PHt3"
      }
    },
    {
      "cell_type": "code",
      "source": [
        "merged_output = merged2.merge(courier_invoice, on='Order ID')\n",
        "print(merged_output.head())"
      ],
      "metadata": {
        "colab": {
          "base_uri": "https://localhost:8080/"
        },
        "id": "vujirU3EO99x",
        "outputId": "b7f0569b-b2f1-421d-ead2-aa98cd267bfd"
      },
      "execution_count": null,
      "outputs": [
        {
          "output_type": "stream",
          "name": "stdout",
          "text": [
            "     Order ID            SKU  Order Qty  Weight (g)  Customer Pincode_x  \\\n",
            "0  2001827036  8904223818706        1.0         127              173213   \n",
            "1  2001827036  8904223819093        1.0         150              173213   \n",
            "2  2001827036  8904223819109        1.0         100              173213   \n",
            "3  2001827036  8904223818430        1.0         165              173213   \n",
            "4  2001827036  8904223819277        1.0         350              173213   \n",
            "\n",
            "  Type of Shipment_x  Warehouse Pincode_x Delivery Zone As Per ABC  \\\n",
            "0    Forward charges               121003                        e   \n",
            "1    Forward charges               121003                        e   \n",
            "2    Forward charges               121003                        e   \n",
            "3    Forward charges               121003                        e   \n",
            "4    Forward charges               121003                        e   \n",
            "\n",
            "   Weights (Kgs)  Weight Slab As Per ABC  Expected Charge as per ABC  \\\n",
            "0          0.127                     0.5                        56.6   \n",
            "1          0.150                     0.5                        56.6   \n",
            "2          0.100                     0.5                        56.6   \n",
            "3          0.165                     0.5                        56.6   \n",
            "4          0.350                     0.5                        56.6   \n",
            "\n",
            "        AWB Code  Charged Weight  Warehouse Pincode_y  Customer Pincode_y  \\\n",
            "0  1091122418320             1.6               121003              173213   \n",
            "1  1091122418320             1.6               121003              173213   \n",
            "2  1091122418320             1.6               121003              173213   \n",
            "3  1091122418320             1.6               121003              173213   \n",
            "4  1091122418320             1.6               121003              173213   \n",
            "\n",
            "  Delivery Zone Charged by Courier Company Type of Shipment_y  \\\n",
            "0                                        b    Forward charges   \n",
            "1                                        b    Forward charges   \n",
            "2                                        b    Forward charges   \n",
            "3                                        b    Forward charges   \n",
            "4                                        b    Forward charges   \n",
            "\n",
            "   Billing Amount (Rs.)  Weight Slab Charged by Courier Company  \n",
            "0                 117.9                                     2.0  \n",
            "1                 117.9                                     2.0  \n",
            "2                 117.9                                     2.0  \n",
            "3                 117.9                                     2.0  \n",
            "4                 117.9                                     2.0  \n"
          ]
        }
      ]
    },
    {
      "cell_type": "markdown",
      "source": [
        "Now let's calculate th differences in charges and expected charges for each order:"
      ],
      "metadata": {
        "id": "9GXd38nRPzPy"
      }
    },
    {
      "cell_type": "code",
      "source": [
        "df_diff = merged_output\n",
        "df_diff['Difference (Rs.)'] = df_diff['Billing Amount (Rs.)'] - df_diff['Expected Charge as per ABC']\n",
        "\n",
        "df_new = df_diff[['Order ID', 'Difference (Rs.)', 'Expected Charge as per ABC']]\n",
        "\n",
        "print(df_new.head())"
      ],
      "metadata": {
        "colab": {
          "base_uri": "https://localhost:8080/"
        },
        "id": "9zJW0aw6Pmbq",
        "outputId": "376344c9-bb28-4254-bf7d-1c13a72ca806"
      },
      "execution_count": null,
      "outputs": [
        {
          "output_type": "stream",
          "name": "stdout",
          "text": [
            "     Order ID  Difference (Rs.)  Expected Charge as per ABC\n",
            "0  2001827036              61.3                        56.6\n",
            "1  2001827036              61.3                        56.6\n",
            "2  2001827036              61.3                        56.6\n",
            "3  2001827036              61.3                        56.6\n",
            "4  2001827036              61.3                        56.6\n"
          ]
        }
      ]
    },
    {
      "cell_type": "markdown",
      "source": [
        "Now let’s summarize the accuracy of B2B courier charges based on the charged prices and expected prices:"
      ],
      "metadata": {
        "id": "2ZWtdiCmRjVi"
      }
    },
    {
      "cell_type": "code",
      "source": [
        "# Calculate the total orders in each category\n",
        "total_correctly_charged = len(df_new[df_new['Difference (Rs.)'] == 0])\n",
        "total_overcharged = len(df_new[df_new['Difference (Rs.)'] > 0])\n",
        "total_undercharged = len(df_new[df_new['Difference (Rs.)'] < 0])\n",
        "\n",
        "# Calculate the total amount in each category\n",
        "amount_overcharged = abs(df_new[df_new['Difference (Rs.)'] > 0]['Difference (Rs.)'].sum())\n",
        "amount_undercharged = df_new[df_new['Difference (Rs.)'] < 0]['Difference (Rs.)'].sum()\n",
        "amount_correctly_charged = df_new[df_new['Difference (Rs.)'] == 0]['Expected Charge as per ABC'].sum()\n",
        "\n",
        "# Create a new DataFrame for the summary\n",
        "summary_data = {'Description': ['Total Orders where ABC has been correctly charged',\n",
        "                                'Total Orders where ABC has been overcharged',\n",
        "                                'Total Orders where ABC has been undercharged'],\n",
        "                'Count': [total_correctly_charged, total_overcharged, total_undercharged],\n",
        "                'Amount (Rs.)': [amount_correctly_charged, amount_overcharged, amount_undercharged]}\n",
        "\n",
        "df_summary = pd.DataFrame(summary_data)\n",
        "\n",
        "print(df_summary)"
      ],
      "metadata": {
        "colab": {
          "base_uri": "https://localhost:8080/"
        },
        "id": "_E05Wb4hQ8nJ",
        "outputId": "7980b061-1b1d-4b88-c2da-4f23ade8c43c"
      },
      "execution_count": null,
      "outputs": [
        {
          "output_type": "stream",
          "name": "stdout",
          "text": [
            "                                         Description  Count  Amount (Rs.)\n",
            "0  Total Orders where ABC has been correctly charged     12         507.6\n",
            "1        Total Orders where ABC has been overcharged    382       33750.5\n",
            "2       Total Orders where ABC has been undercharged      7        -165.2\n"
          ]
        }
      ]
    },
    {
      "cell_type": "markdown",
      "source": [
        "We can also visualize the proportion of errors as shown below:"
      ],
      "metadata": {
        "id": "4OZKJg_aR7_k"
      }
    },
    {
      "cell_type": "code",
      "source": [
        "import plotly.graph_objects as go\n",
        "fig = go.Figure(data=go.Pie(labels=df_summary['Description'],\n",
        "                            values=df_summary['Count'],\n",
        "                            textinfo='label+percent',\n",
        "                            hole=0.4))\n",
        "fig.update_layout(title='Proportion')\n",
        "\n",
        "fig.show()"
      ],
      "metadata": {
        "colab": {
          "base_uri": "https://localhost:8080/",
          "height": 542
        },
        "id": "QRGPCkkuR3HZ",
        "outputId": "20b760cf-71b9-4cfe-aea8-a022b214da36"
      },
      "execution_count": null,
      "outputs": [
        {
          "output_type": "display_data",
          "data": {
            "text/html": [
              "<html>\n",
              "<head><meta charset=\"utf-8\" /></head>\n",
              "<body>\n",
              "    <div>            <script src=\"https://cdnjs.cloudflare.com/ajax/libs/mathjax/2.7.5/MathJax.js?config=TeX-AMS-MML_SVG\"></script><script type=\"text/javascript\">if (window.MathJax && window.MathJax.Hub && window.MathJax.Hub.Config) {window.MathJax.Hub.Config({SVG: {font: \"STIX-Web\"}});}</script>                <script type=\"text/javascript\">window.PlotlyConfig = {MathJaxConfig: 'local'};</script>\n",
              "        <script charset=\"utf-8\" src=\"https://cdn.plot.ly/plotly-2.35.2.min.js\"></script>                <div id=\"879c347e-d555-4c51-9cc9-c82ab061291d\" class=\"plotly-graph-div\" style=\"height:525px; width:100%;\"></div>            <script type=\"text/javascript\">                                    window.PLOTLYENV=window.PLOTLYENV || {};                                    if (document.getElementById(\"879c347e-d555-4c51-9cc9-c82ab061291d\")) {                    Plotly.newPlot(                        \"879c347e-d555-4c51-9cc9-c82ab061291d\",                        [{\"hole\":0.4,\"labels\":[\"Total Orders where ABC has been correctly charged\",\"Total Orders where ABC has been overcharged\",\"Total Orders where ABC has been undercharged\"],\"textinfo\":\"label+percent\",\"values\":[12,382,7],\"type\":\"pie\"}],                        {\"template\":{\"data\":{\"histogram2dcontour\":[{\"type\":\"histogram2dcontour\",\"colorbar\":{\"outlinewidth\":0,\"ticks\":\"\"},\"colorscale\":[[0.0,\"#0d0887\"],[0.1111111111111111,\"#46039f\"],[0.2222222222222222,\"#7201a8\"],[0.3333333333333333,\"#9c179e\"],[0.4444444444444444,\"#bd3786\"],[0.5555555555555556,\"#d8576b\"],[0.6666666666666666,\"#ed7953\"],[0.7777777777777778,\"#fb9f3a\"],[0.8888888888888888,\"#fdca26\"],[1.0,\"#f0f921\"]]}],\"choropleth\":[{\"type\":\"choropleth\",\"colorbar\":{\"outlinewidth\":0,\"ticks\":\"\"}}],\"histogram2d\":[{\"type\":\"histogram2d\",\"colorbar\":{\"outlinewidth\":0,\"ticks\":\"\"},\"colorscale\":[[0.0,\"#0d0887\"],[0.1111111111111111,\"#46039f\"],[0.2222222222222222,\"#7201a8\"],[0.3333333333333333,\"#9c179e\"],[0.4444444444444444,\"#bd3786\"],[0.5555555555555556,\"#d8576b\"],[0.6666666666666666,\"#ed7953\"],[0.7777777777777778,\"#fb9f3a\"],[0.8888888888888888,\"#fdca26\"],[1.0,\"#f0f921\"]]}],\"heatmap\":[{\"type\":\"heatmap\",\"colorbar\":{\"outlinewidth\":0,\"ticks\":\"\"},\"colorscale\":[[0.0,\"#0d0887\"],[0.1111111111111111,\"#46039f\"],[0.2222222222222222,\"#7201a8\"],[0.3333333333333333,\"#9c179e\"],[0.4444444444444444,\"#bd3786\"],[0.5555555555555556,\"#d8576b\"],[0.6666666666666666,\"#ed7953\"],[0.7777777777777778,\"#fb9f3a\"],[0.8888888888888888,\"#fdca26\"],[1.0,\"#f0f921\"]]}],\"heatmapgl\":[{\"type\":\"heatmapgl\",\"colorbar\":{\"outlinewidth\":0,\"ticks\":\"\"},\"colorscale\":[[0.0,\"#0d0887\"],[0.1111111111111111,\"#46039f\"],[0.2222222222222222,\"#7201a8\"],[0.3333333333333333,\"#9c179e\"],[0.4444444444444444,\"#bd3786\"],[0.5555555555555556,\"#d8576b\"],[0.6666666666666666,\"#ed7953\"],[0.7777777777777778,\"#fb9f3a\"],[0.8888888888888888,\"#fdca26\"],[1.0,\"#f0f921\"]]}],\"contourcarpet\":[{\"type\":\"contourcarpet\",\"colorbar\":{\"outlinewidth\":0,\"ticks\":\"\"}}],\"contour\":[{\"type\":\"contour\",\"colorbar\":{\"outlinewidth\":0,\"ticks\":\"\"},\"colorscale\":[[0.0,\"#0d0887\"],[0.1111111111111111,\"#46039f\"],[0.2222222222222222,\"#7201a8\"],[0.3333333333333333,\"#9c179e\"],[0.4444444444444444,\"#bd3786\"],[0.5555555555555556,\"#d8576b\"],[0.6666666666666666,\"#ed7953\"],[0.7777777777777778,\"#fb9f3a\"],[0.8888888888888888,\"#fdca26\"],[1.0,\"#f0f921\"]]}],\"surface\":[{\"type\":\"surface\",\"colorbar\":{\"outlinewidth\":0,\"ticks\":\"\"},\"colorscale\":[[0.0,\"#0d0887\"],[0.1111111111111111,\"#46039f\"],[0.2222222222222222,\"#7201a8\"],[0.3333333333333333,\"#9c179e\"],[0.4444444444444444,\"#bd3786\"],[0.5555555555555556,\"#d8576b\"],[0.6666666666666666,\"#ed7953\"],[0.7777777777777778,\"#fb9f3a\"],[0.8888888888888888,\"#fdca26\"],[1.0,\"#f0f921\"]]}],\"mesh3d\":[{\"type\":\"mesh3d\",\"colorbar\":{\"outlinewidth\":0,\"ticks\":\"\"}}],\"scatter\":[{\"fillpattern\":{\"fillmode\":\"overlay\",\"size\":10,\"solidity\":0.2},\"type\":\"scatter\"}],\"parcoords\":[{\"type\":\"parcoords\",\"line\":{\"colorbar\":{\"outlinewidth\":0,\"ticks\":\"\"}}}],\"scatterpolargl\":[{\"type\":\"scatterpolargl\",\"marker\":{\"colorbar\":{\"outlinewidth\":0,\"ticks\":\"\"}}}],\"bar\":[{\"error_x\":{\"color\":\"#2a3f5f\"},\"error_y\":{\"color\":\"#2a3f5f\"},\"marker\":{\"line\":{\"color\":\"#E5ECF6\",\"width\":0.5},\"pattern\":{\"fillmode\":\"overlay\",\"size\":10,\"solidity\":0.2}},\"type\":\"bar\"}],\"scattergeo\":[{\"type\":\"scattergeo\",\"marker\":{\"colorbar\":{\"outlinewidth\":0,\"ticks\":\"\"}}}],\"scatterpolar\":[{\"type\":\"scatterpolar\",\"marker\":{\"colorbar\":{\"outlinewidth\":0,\"ticks\":\"\"}}}],\"histogram\":[{\"marker\":{\"pattern\":{\"fillmode\":\"overlay\",\"size\":10,\"solidity\":0.2}},\"type\":\"histogram\"}],\"scattergl\":[{\"type\":\"scattergl\",\"marker\":{\"colorbar\":{\"outlinewidth\":0,\"ticks\":\"\"}}}],\"scatter3d\":[{\"type\":\"scatter3d\",\"line\":{\"colorbar\":{\"outlinewidth\":0,\"ticks\":\"\"}},\"marker\":{\"colorbar\":{\"outlinewidth\":0,\"ticks\":\"\"}}}],\"scattermapbox\":[{\"type\":\"scattermapbox\",\"marker\":{\"colorbar\":{\"outlinewidth\":0,\"ticks\":\"\"}}}],\"scatterternary\":[{\"type\":\"scatterternary\",\"marker\":{\"colorbar\":{\"outlinewidth\":0,\"ticks\":\"\"}}}],\"scattercarpet\":[{\"type\":\"scattercarpet\",\"marker\":{\"colorbar\":{\"outlinewidth\":0,\"ticks\":\"\"}}}],\"carpet\":[{\"aaxis\":{\"endlinecolor\":\"#2a3f5f\",\"gridcolor\":\"white\",\"linecolor\":\"white\",\"minorgridcolor\":\"white\",\"startlinecolor\":\"#2a3f5f\"},\"baxis\":{\"endlinecolor\":\"#2a3f5f\",\"gridcolor\":\"white\",\"linecolor\":\"white\",\"minorgridcolor\":\"white\",\"startlinecolor\":\"#2a3f5f\"},\"type\":\"carpet\"}],\"table\":[{\"cells\":{\"fill\":{\"color\":\"#EBF0F8\"},\"line\":{\"color\":\"white\"}},\"header\":{\"fill\":{\"color\":\"#C8D4E3\"},\"line\":{\"color\":\"white\"}},\"type\":\"table\"}],\"barpolar\":[{\"marker\":{\"line\":{\"color\":\"#E5ECF6\",\"width\":0.5},\"pattern\":{\"fillmode\":\"overlay\",\"size\":10,\"solidity\":0.2}},\"type\":\"barpolar\"}],\"pie\":[{\"automargin\":true,\"type\":\"pie\"}]},\"layout\":{\"autotypenumbers\":\"strict\",\"colorway\":[\"#636efa\",\"#EF553B\",\"#00cc96\",\"#ab63fa\",\"#FFA15A\",\"#19d3f3\",\"#FF6692\",\"#B6E880\",\"#FF97FF\",\"#FECB52\"],\"font\":{\"color\":\"#2a3f5f\"},\"hovermode\":\"closest\",\"hoverlabel\":{\"align\":\"left\"},\"paper_bgcolor\":\"white\",\"plot_bgcolor\":\"#E5ECF6\",\"polar\":{\"bgcolor\":\"#E5ECF6\",\"angularaxis\":{\"gridcolor\":\"white\",\"linecolor\":\"white\",\"ticks\":\"\"},\"radialaxis\":{\"gridcolor\":\"white\",\"linecolor\":\"white\",\"ticks\":\"\"}},\"ternary\":{\"bgcolor\":\"#E5ECF6\",\"aaxis\":{\"gridcolor\":\"white\",\"linecolor\":\"white\",\"ticks\":\"\"},\"baxis\":{\"gridcolor\":\"white\",\"linecolor\":\"white\",\"ticks\":\"\"},\"caxis\":{\"gridcolor\":\"white\",\"linecolor\":\"white\",\"ticks\":\"\"}},\"coloraxis\":{\"colorbar\":{\"outlinewidth\":0,\"ticks\":\"\"}},\"colorscale\":{\"sequential\":[[0.0,\"#0d0887\"],[0.1111111111111111,\"#46039f\"],[0.2222222222222222,\"#7201a8\"],[0.3333333333333333,\"#9c179e\"],[0.4444444444444444,\"#bd3786\"],[0.5555555555555556,\"#d8576b\"],[0.6666666666666666,\"#ed7953\"],[0.7777777777777778,\"#fb9f3a\"],[0.8888888888888888,\"#fdca26\"],[1.0,\"#f0f921\"]],\"sequentialminus\":[[0.0,\"#0d0887\"],[0.1111111111111111,\"#46039f\"],[0.2222222222222222,\"#7201a8\"],[0.3333333333333333,\"#9c179e\"],[0.4444444444444444,\"#bd3786\"],[0.5555555555555556,\"#d8576b\"],[0.6666666666666666,\"#ed7953\"],[0.7777777777777778,\"#fb9f3a\"],[0.8888888888888888,\"#fdca26\"],[1.0,\"#f0f921\"]],\"diverging\":[[0,\"#8e0152\"],[0.1,\"#c51b7d\"],[0.2,\"#de77ae\"],[0.3,\"#f1b6da\"],[0.4,\"#fde0ef\"],[0.5,\"#f7f7f7\"],[0.6,\"#e6f5d0\"],[0.7,\"#b8e186\"],[0.8,\"#7fbc41\"],[0.9,\"#4d9221\"],[1,\"#276419\"]]},\"xaxis\":{\"gridcolor\":\"white\",\"linecolor\":\"white\",\"ticks\":\"\",\"title\":{\"standoff\":15},\"zerolinecolor\":\"white\",\"automargin\":true,\"zerolinewidth\":2},\"yaxis\":{\"gridcolor\":\"white\",\"linecolor\":\"white\",\"ticks\":\"\",\"title\":{\"standoff\":15},\"zerolinecolor\":\"white\",\"automargin\":true,\"zerolinewidth\":2},\"scene\":{\"xaxis\":{\"backgroundcolor\":\"#E5ECF6\",\"gridcolor\":\"white\",\"linecolor\":\"white\",\"showbackground\":true,\"ticks\":\"\",\"zerolinecolor\":\"white\",\"gridwidth\":2},\"yaxis\":{\"backgroundcolor\":\"#E5ECF6\",\"gridcolor\":\"white\",\"linecolor\":\"white\",\"showbackground\":true,\"ticks\":\"\",\"zerolinecolor\":\"white\",\"gridwidth\":2},\"zaxis\":{\"backgroundcolor\":\"#E5ECF6\",\"gridcolor\":\"white\",\"linecolor\":\"white\",\"showbackground\":true,\"ticks\":\"\",\"zerolinecolor\":\"white\",\"gridwidth\":2}},\"shapedefaults\":{\"line\":{\"color\":\"#2a3f5f\"}},\"annotationdefaults\":{\"arrowcolor\":\"#2a3f5f\",\"arrowhead\":0,\"arrowwidth\":1},\"geo\":{\"bgcolor\":\"white\",\"landcolor\":\"#E5ECF6\",\"subunitcolor\":\"white\",\"showland\":true,\"showlakes\":true,\"lakecolor\":\"white\"},\"title\":{\"x\":0.05},\"mapbox\":{\"style\":\"light\"}}},\"title\":{\"text\":\"Proportion\"}},                        {\"responsive\": true}                    ).then(function(){\n",
              "                            \n",
              "var gd = document.getElementById('879c347e-d555-4c51-9cc9-c82ab061291d');\n",
              "var x = new MutationObserver(function (mutations, observer) {{\n",
              "        var display = window.getComputedStyle(gd).display;\n",
              "        if (!display || display === 'none') {{\n",
              "            console.log([gd, 'removed!']);\n",
              "            Plotly.purge(gd);\n",
              "            observer.disconnect();\n",
              "        }}\n",
              "}});\n",
              "\n",
              "// Listen for the removal of the full notebook cells\n",
              "var notebookContainer = gd.closest('#notebook-container');\n",
              "if (notebookContainer) {{\n",
              "    x.observe(notebookContainer, {childList: true});\n",
              "}}\n",
              "\n",
              "// Listen for the clearing of the current output cell\n",
              "var outputEl = gd.closest('.output');\n",
              "if (outputEl) {{\n",
              "    x.observe(outputEl, {childList: true});\n",
              "}}\n",
              "\n",
              "                        })                };                            </script>        </div>\n",
              "</body>\n",
              "</html>"
            ]
          },
          "metadata": {}
        }
      ]
    },
    {
      "cell_type": "code",
      "source": [],
      "metadata": {
        "id": "u0V05yLGSBEH"
      },
      "execution_count": null,
      "outputs": []
    }
  ]
}